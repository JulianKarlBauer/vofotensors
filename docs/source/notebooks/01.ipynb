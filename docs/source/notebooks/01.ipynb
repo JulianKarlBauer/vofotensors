{
 "cells": [
  {
   "cell_type": "markdown",
   "id": "bd3842f6",
   "metadata": {},
   "source": [
    "# Print available parameterizations of second-order fiber orientation tensors (FOT)"
   ]
  },
  {
   "cell_type": "code",
   "execution_count": 1,
   "id": "314f265d",
   "metadata": {
    "execution": {
     "iopub.execute_input": "2023-03-03T08:44:11.276573Z",
     "iopub.status.busy": "2023-03-03T08:44:11.270808Z",
     "iopub.status.idle": "2023-03-03T08:44:13.031467Z",
     "shell.execute_reply": "2023-03-03T08:44:13.030779Z"
    }
   },
   "outputs": [],
   "source": [
    "import vofotensors as vot"
   ]
  },
  {
   "cell_type": "code",
   "execution_count": 2,
   "id": "0e248f88",
   "metadata": {
    "execution": {
     "iopub.execute_input": "2023-03-03T08:44:13.044052Z",
     "iopub.status.busy": "2023-03-03T08:44:13.039791Z",
     "iopub.status.idle": "2023-03-03T08:44:13.047673Z",
     "shell.execute_reply": "2023-03-03T08:44:13.047370Z"
    }
   },
   "outputs": [
    {
     "name": "stdout",
     "output_type": "stream",
     "text": [
      "Available parameterizations of second order fiber orientation tensors:\n",
      "\n",
      "\n",
      "####################\n",
      "Group: planar\n",
      "alpha1\n",
      "Matrix([\n",
      "[3*alpha1/4 + 1/2,                0, 0],\n",
      "[               0, 1/2 - 3*alpha1/4, 0],\n",
      "[               0,                0, 0]])\n",
      "\n",
      "la1\n",
      "Matrix([\n",
      "[la1,       0, 0],\n",
      "[  0, 1 - la1, 0],\n",
      "[  0,       0, 0]])\n",
      "\n",
      "\n",
      "####################\n",
      "Group: transv_isotropic\n",
      "alpha1\n",
      "Matrix([\n",
      "[alpha1 + 1/3,              0,              0],\n",
      "[           0, 1/3 - alpha1/2,              0],\n",
      "[           0,              0, 1/3 - alpha1/2]])\n",
      "\n",
      "alpha2\n",
      "Matrix([\n",
      "[1/3 - alpha2/2,            0,              0],\n",
      "[             0, alpha2 + 1/3,              0],\n",
      "[             0,            0, 1/3 - alpha2/2]])\n",
      "\n",
      "alpha3\n",
      "Matrix([\n",
      "[1/3 - alpha3/2,              0,            0],\n",
      "[             0, 1/3 - alpha3/2,            0],\n",
      "[             0,              0, alpha3 + 1/3]])\n",
      "\n",
      "la1\n",
      "Matrix([\n",
      "[la1,           0,           0],\n",
      "[  0, 1/2 - la1/2,           0],\n",
      "[  0,           0, 1/2 - la1/2]])\n",
      "\n",
      "\n",
      "####################\n",
      "Group: orthotropic\n",
      "la1_la2\n",
      "Matrix([\n",
      "[la1,   0,              0],\n",
      "[  0, la2,              0],\n",
      "[  0,   0, -la1 - la2 + 1]])\n",
      "\n",
      "la1_la2_la3\n",
      "Matrix([\n",
      "[la1,   0,   0],\n",
      "[  0, la2,   0],\n",
      "[  0,   0, la3]])\n",
      "\n",
      "alpha1_alpha3\n",
      "Matrix([\n",
      "[alpha1 - alpha3/2 + 1/3,                          0,                        0],\n",
      "[                      0, -alpha1/2 - alpha3/2 + 1/3,                        0],\n",
      "[                      0,                          0, -alpha1/2 + alpha3 + 1/3]])\n",
      "\n",
      "alpha1_alpha2_alpha3\n",
      "Matrix([\n",
      "[alpha1 - alpha2/2 - alpha3/2 + 1/3,                                   0,                                   0],\n",
      "[                                 0, -alpha1/2 + alpha2 - alpha3/2 + 1/3,                                   0],\n",
      "[                                 0,                                   0, -alpha1/2 - alpha2/2 + alpha3 + 1/3]])\n",
      "\n"
     ]
    }
   ],
   "source": [
    "print(\"Available parameterizations of second order fiber orientation tensors:\\n\")\n",
    "vot.utils.print_nested(vot.fabric_tensors.N2s_parametric)"
   ]
  }
 ],
 "metadata": {
  "jupytext": {
   "cell_metadata_filter": "-all",
   "main_language": "python",
   "notebook_metadata_filter": "-all"
  },
  "kernelspec": {
   "display_name": "Python 3",
   "language": "python",
   "name": "python3"
  },
  "language_info": {
   "codemirror_mode": {
    "name": "ipython",
    "version": 3
   },
   "file_extension": ".py",
   "mimetype": "text/x-python",
   "name": "python",
   "nbconvert_exporter": "python",
   "pygments_lexer": "ipython3",
   "version": "3.9.7"
  }
 },
 "nbformat": 4,
 "nbformat_minor": 5
}
