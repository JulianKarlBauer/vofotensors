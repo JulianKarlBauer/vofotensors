{
 "cells": [
  {
   "cell_type": "markdown",
   "id": "b1d09a9c",
   "metadata": {},
   "source": [
    "# Select fourth-order FOT in the parameter space of transversely isotropic FOT"
   ]
  },
  {
   "cell_type": "code",
   "execution_count": 1,
   "id": "d63f9fc7",
   "metadata": {
    "execution": {
     "iopub.execute_input": "2023-03-03T08:44:20.700192Z",
     "iopub.status.busy": "2023-03-03T08:44:20.697978Z",
     "iopub.status.idle": "2023-03-03T08:44:23.269986Z",
     "shell.execute_reply": "2023-03-03T08:44:23.271260Z"
    }
   },
   "outputs": [],
   "source": [
    "import numpy as np\n",
    "import sympy as sp\n",
    "import vofotensors as vot\n",
    "from vofotensors.abc import alpha1, rho1\n",
    "import pandas as pd"
   ]
  },
  {
   "cell_type": "code",
   "execution_count": 2,
   "id": "a672414d",
   "metadata": {
    "execution": {
     "iopub.execute_input": "2023-03-03T08:44:23.284706Z",
     "iopub.status.busy": "2023-03-03T08:44:23.283375Z",
     "iopub.status.idle": "2023-03-03T08:44:23.286917Z",
     "shell.execute_reply": "2023-03-03T08:44:23.285870Z"
    }
   },
   "outputs": [],
   "source": [
    "# Create data\n",
    "alphas = np.linspace(-1.0 / 3.0, 2.0 / 3.0, 10)\n",
    "rho_top = alphas / 56.0 + 1.0 / 60.0\n",
    "rho_bottom = alphas * alphas / 8.0 - alphas / 42.0 - 1.0 / 90.0\n",
    "boundary = np.concatenate(\n",
    "    [\n",
    "        np.stack([alphas, rho_top], axis=1),\n",
    "        np.stack([alphas, rho_bottom], axis=1)[1:-1],\n",
    "    ],\n",
    "    axis=0,\n",
    ")"
   ]
  },
  {
   "cell_type": "code",
   "execution_count": 3,
   "id": "ccb1be4f",
   "metadata": {
    "execution": {
     "iopub.execute_input": "2023-03-03T08:44:23.297696Z",
     "iopub.status.busy": "2023-03-03T08:44:23.295444Z",
     "iopub.status.idle": "2023-03-03T08:44:23.301386Z",
     "shell.execute_reply": "2023-03-03T08:44:23.299111Z"
    }
   },
   "outputs": [],
   "source": [
    "# Cast to dataframe\n",
    "df = pd.DataFrame(boundary, columns=[\"alpha1\", \"rho1\"])"
   ]
  },
  {
   "cell_type": "code",
   "execution_count": 4,
   "id": "deb71467",
   "metadata": {
    "execution": {
     "iopub.execute_input": "2023-03-03T08:44:23.310961Z",
     "iopub.status.busy": "2023-03-03T08:44:23.309701Z",
     "iopub.status.idle": "2023-03-03T08:44:23.773043Z",
     "shell.execute_reply": "2023-03-03T08:44:23.772046Z"
    }
   },
   "outputs": [],
   "source": [
    "# Get parameterizations\n",
    "parameterizations = vot.fabric_tensors.N4s_parametric\n",
    "parameterization = parameterizations[\"transv_isotropic\"][\"alpha1_rho1\"]\n",
    "N4_func = sp.lambdify([alpha1, rho1], parameterization)"
   ]
  },
  {
   "cell_type": "code",
   "execution_count": 5,
   "id": "68d2404c",
   "metadata": {
    "execution": {
     "iopub.execute_input": "2023-03-03T08:44:23.784119Z",
     "iopub.status.busy": "2023-03-03T08:44:23.782698Z",
     "iopub.status.idle": "2023-03-03T08:44:23.820750Z",
     "shell.execute_reply": "2023-03-03T08:44:23.820025Z"
    }
   },
   "outputs": [
    {
     "name": "stdout",
     "output_type": "stream",
     "text": [
      "      alpha1      rho1                                                 N4\n",
      "0  -0.333333  0.010714  [[2.7755575615628914e-17, 0.0, 0.0, 0.0, 0.0, ...\n",
      "1  -0.222222  0.012698  [[0.11111111111111113, 0.0, 0.0, 0.0, 0.0, 0.0...\n",
      "2  -0.111111  0.014683  [[0.22222222222222224, 0.0, 0.0, 0.0, 0.0, 0.0...\n",
      "3   0.000000  0.016667  [[0.33333333333333337, 0.0, 0.0, 0.0, 0.0, 0.0...\n",
      "4   0.111111  0.018651  [[0.4444444444444444, 0.0, 0.0, 0.0, 0.0, 0.0]...\n",
      "5   0.222222  0.020635  [[0.5555555555555556, 0.0, 0.0, 0.0, 0.0, 0.0]...\n",
      "6   0.333333  0.022619  [[0.6666666666666667, 0.0, 0.0, 0.0, 0.0, 0.0]...\n",
      "7   0.444444  0.024603  [[0.7777777777777777, 1.3877787807814457e-17, ...\n",
      "8   0.555556  0.026587  [[0.8888888888888888, -1.3877787807814457e-17,...\n",
      "9   0.666667  0.028571  [[1.0, 0.0, 0.0, 0.0, 0.0, 0.0], [0.0, 2.77555...\n",
      "10 -0.222222  0.000353  [[0.012345679012345678, 0.04938271604938272, 0...\n",
      "11 -0.111111 -0.006922  [[0.04938271604938271, 0.08641975308641975, 0....\n",
      "12  0.000000 -0.011111  [[0.11111111111111112, 0.1111111111111111, 0.1...\n",
      "13  0.111111 -0.012213  [[0.19753086419753085, 0.12345679012345678, 0....\n",
      "14  0.222222 -0.010229  [[0.308641975308642, 0.12345679012345678, 0.12...\n",
      "15  0.333333 -0.005159  [[0.4444444444444444, 0.1111111111111111, 0.11...\n",
      "16  0.444444  0.002998  [[0.6049382716049381, 0.08641975308641978, 0.0...\n",
      "17  0.555556  0.014242  [[0.7901234567901234, 0.04938271604938269, 0.0...\n"
     ]
    }
   ],
   "source": [
    "# Evaluate parameterization for each FOT in dataframe\n",
    "df[\"N4\"] = df.apply(lambda row: N4_func(alpha1=row[\"alpha1\"], rho1=row[\"rho1\"]), axis=1)\n",
    "print(df)"
   ]
  }
 ],
 "metadata": {
  "jupytext": {
   "cell_metadata_filter": "-all",
   "main_language": "python",
   "notebook_metadata_filter": "-all"
  },
  "kernelspec": {
   "display_name": "Python 3",
   "language": "python",
   "name": "python3"
  },
  "language_info": {
   "codemirror_mode": {
    "name": "ipython",
    "version": 3
   },
   "file_extension": ".py",
   "mimetype": "text/x-python",
   "name": "python",
   "nbconvert_exporter": "python",
   "pygments_lexer": "ipython3",
   "version": "3.9.7"
  }
 },
 "nbformat": 4,
 "nbformat_minor": 5
}
